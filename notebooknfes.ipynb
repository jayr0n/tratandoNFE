{
 "cells": [
  {
   "cell_type": "markdown",
   "id": "283c63ff-0555-4d96-b035-0935ba7dc928",
   "metadata": {
    "tags": []
   },
   "source": [
    "## Imports"
   ]
  },
  {
   "cell_type": "code",
   "execution_count": null,
   "id": "e01295be-8d53-484a-b57f-5f4071daa843",
   "metadata": {},
   "outputs": [],
   "source": [
    "import pandas as pd\n",
    "import fnmatch\n",
    "from lxml import etree\n",
    "import os\n",
    "import numpy as np\n",
    "import xml.etree.ElementTree as ET\n",
    "from tqdm import tqdm"
   ]
  },
  {
   "cell_type": "code",
   "execution_count": null,
   "id": "c2c5d591-b1c8-4bc4-93cd-42bd37cfd19c",
   "metadata": {},
   "outputs": [],
   "source": [
    "# DIRETÓRIO TABELA PRODUTOS\n",
    "DIRETORIO_TABELA_PRODUTOS = \"{}\" \n",
    " # DIRETÓRIO TABELA CLASSIFICAÇÃO\n",
    "DIRETORIO_TABELA_CLASSIFICADOR = \"{}\"\n",
    "# DIRETÓRIO DOS XMLS\n",
    "DIRETORIO_ENTRADA_XML = \"{}\"  \n",
    "# DIRETÓRIO SAÍDA DOS XMLS\n",
    "DIRETORIO_SAIDA_XML = \"{}\"  \n",
    "# DIRETÓRIO SAÍDA DOS ARQUIVOS QUE PRECISAM DE UMA SEGUNDA VERIFICAÇÃO\n",
    "DIRETORIO_SAIDA_cProd_NAO_ENCONTRADOS = \"{}\" \n",
    "# DIRETÓRIO DE SAÍDA DOS XMLS VERIFICADOS PELA SEGUNDA VEZ\n",
    "DIRETORIO_SAIDA_XML_SEGUNDA_VERIFICACAO = \"{}\"\n",
    "# DIRETÓRIO DE SAÍDA DOS XMLS VERIFICADOS PELA SEGUNDA VEZ ONDE OS cPROD NÃO FORAM TROCADOS\n",
    "DIRETORIO_SAIDA_XML_SEGUNDA_VERIFICACAO_cProd = \"{}\"\n",
    "\n",
    "# CLASSIFICADOR DOS GRUPOS EXCEL\n",
    "CLASSIFICADOR = pd.read_excel(DIRETORIO_TABELA_CLASSIFICADOR)\n",
    "# BASE DO EXCEL DE PRODUTOS\n",
    "PRODUTOS = pd.read_excel(DIRETORIO_TABELA_PRODUTOS)\n",
    "\n",
    "# DIRETORIO_SAIDA_XML\n",
    "if not os.path.exists(DIRETORIO_SAIDA_XML):\n",
    "    os.makedirs(DIRETORIO_SAIDA_XML)\n",
    "\n",
    "# DIRETORIO_SAIDA_cProd_NAO_ENCONTRADOS\n",
    "if not os.path.exists(DIRETORIO_SAIDA_cProd_NAO_ENCONTRADOS):\n",
    "    os.makedirs(DIRETORIO_SAIDA_cProd_NAO_ENCONTRADOS)\n",
    "\n",
    "# DIRETORIO_SAIDA_XML_SEGUNDA_VERIFICACAO\n",
    "if not os.path.exists(DIRETORIO_SAIDA_XML_SEGUNDA_VERIFICACAO):\n",
    "    os.makedirs(DIRETORIO_SAIDA_XML_SEGUNDA_VERIFICACAO)\n",
    "    \n",
    "# DIRETORIO_SAIDA_XML_SEGUNDA_VERIFICACAO_cProd\n",
    "if not os.path.exists(DIRETORIO_SAIDA_XML_SEGUNDA_VERIFICACAO_cProd):\n",
    "    os.makedirs(DIRETORIO_SAIDA_XML_SEGUNDA_VERIFICACAO_cProd)"
   ]
  },
  {
   "cell_type": "markdown",
   "id": "4b789259-2b31-49b9-97c7-499644f28df7",
   "metadata": {
    "tags": []
   },
   "source": [
    "## Base Excel Classificador"
   ]
  },
  {
   "cell_type": "code",
   "execution_count": 3,
   "id": "1e376d88-6aa2-4e9f-a65f-9da2b5cb4bb4",
   "metadata": {},
   "outputs": [],
   "source": [
    "grupo_dict = {grupo: CLASSIFICADOR[CLASSIFICADOR['GRUPO'] == grupo].iloc[:, 1:].to_dict(orient='records')[0] for grupo in CLASSIFICADOR['GRUPO'].unique()}\n",
    "\n",
    "def valores_grupo(valores):\n",
    "    try:\n",
    "        return grupo_dict[valores]\n",
    "    except:\n",
    "        return False"
   ]
  },
  {
   "cell_type": "markdown",
   "id": "714ea10e-7dba-400e-8507-febb76a9eb98",
   "metadata": {
    "tags": []
   },
   "source": [
    "## Base Excel Produtos"
   ]
  },
  {
   "cell_type": "code",
   "execution_count": 4,
   "id": "29d765d3-0082-491d-a2bf-34a235b4b127",
   "metadata": {},
   "outputs": [],
   "source": [
    "produtos_BR = PRODUTOS.set_index(list(['COD']))['GRUPO'].to_dict()\n",
    "produtos_USA = PRODUTOS.set_index(list(['COD-US']))['GRUPO'].to_dict()\n",
    "\n",
    "# Função para retornar o valor de \"GRUPO\" com base no valor de \"COD\"\n",
    "def encontra_grupo(cod):\n",
    "    grupoBR, grupoUS = produtos_BR.get(cod), produtos_USA.get(cod)\n",
    "    if grupoBR is not None:\n",
    "        return grupoBR\n",
    "    elif grupoUS is not None:\n",
    "        return grupoUS\n",
    "    else:\n",
    "        return False"
   ]
  },
  {
   "cell_type": "markdown",
   "id": "b96c6856-ae5f-4622-be3a-05127474fde3",
   "metadata": {
    "tags": []
   },
   "source": [
    "# Condição 1.0 – Ignorar os arquivos XML com terminação"
   ]
  },
  {
   "cell_type": "code",
   "execution_count": 5,
   "id": "9c59d66b-725a-43b5-a0e2-b72bbebdc6c2",
   "metadata": {},
   "outputs": [],
   "source": [
    "def condicao1(arquivos):\n",
    "    padroes_ignorados = [\"*_canc.xml\", \"*_cteAtz.xml\", \"*_cteCanc.xml\", \"*_ciencOp.xml\", \"*_confirmOp.xml\", \"*_mdfAtz.xml\"]\n",
    "    return [arquivo for arquivo in arquivos if not any(fnmatch.fnmatch(arquivo, padrao) for padrao in padroes_ignorados)]"
   ]
  },
  {
   "cell_type": "markdown",
   "id": "89eea3aa-2fa3-4e9c-aa8a-285d507ec407",
   "metadata": {
    "tags": []
   },
   "source": [
    "# Condição 2.0 – Verificar se o código o <cProd> existe no BD a01 COD"
   ]
  },
  {
   "cell_type": "code",
   "execution_count": 6,
   "id": "b1615885-cb5f-40aa-a9f1-ce37ccc6044d",
   "metadata": {},
   "outputs": [],
   "source": [
    "cod_list = np.array(PRODUTOS['COD'])\n",
    "prod_us = np.array(PRODUTOS['COD-US'])\n",
    "arr_junto = np.append(cod_list[~np.isnan(cod_list)], prod_us[~np.isnan(prod_us)], axis=0)\n",
    "\n",
    "grupo_dict = {grupo: CLASSIFICADOR[CLASSIFICADOR['GRUPO'] == grupo].iloc[:, 1:].to_dict(orient='records')[0] for grupo in CLASSIFICADOR['GRUPO'].unique()}\n",
    "\n",
    "def condicao2(det_elements):\n",
    "        if all(int(det.find('.//nfe:cProd', namespaces={'nfe': 'http://www.portalfiscal.inf.br/nfe'}).text) in arr_junto for det in det_elements):\n",
    "            return True"
   ]
  },
  {
   "cell_type": "markdown",
   "id": "35b0729c-ae32-405d-b590-b0af6a5c87d7",
   "metadata": {
    "tags": []
   },
   "source": [
    "# Condição 3.0 – Verificar se o Elemento <vDesc> existe em cada produto"
   ]
  },
  {
   "cell_type": "code",
   "execution_count": 7,
   "id": "2b81a13b-8dee-41a4-a122-b45721c4d837",
   "metadata": {},
   "outputs": [],
   "source": [
    "# Condição 3.0 – Verificar se o Elemento <vDesc> existe em cada produto\n",
    "def condicao3(det):\n",
    "    if det.find(\".//{http://www.portalfiscal.inf.br/nfe}vDesc\") is not None:\n",
    "        vProd = float(det.find(\".//{http://www.portalfiscal.inf.br/nfe}vProd\").text)\n",
    "        vDesc = float(det.find(\".//{http://www.portalfiscal.inf.br/nfe}vDesc\").text)\n",
    "        return float(vProd - vDesc)\n",
    "    else:\n",
    "        return float(det.find(\".//{http://www.portalfiscal.inf.br/nfe}vProd\").text)"
   ]
  },
  {
   "cell_type": "markdown",
   "id": "999bd16e-0284-45ec-97c8-3b1426876370",
   "metadata": {
    "tags": []
   },
   "source": [
    "# Condição 4.1 – Verificar o se o valor do GRUPO > 19"
   ]
  },
  {
   "cell_type": "markdown",
   "id": "609fe6c4-5a11-4da6-a83a-f1d137761fbc",
   "metadata": {
    "tags": []
   },
   "source": [
    "## Condição 4.1.1 – Verificar o se o valor do GRUPO > 19 ICMS"
   ]
  },
  {
   "cell_type": "code",
   "execution_count": 8,
   "id": "75dfcdad-fc38-40a1-b1fb-c911be3740d4",
   "metadata": {},
   "outputs": [],
   "source": [
    "def remove_ICMS_condicao411(det, ns):\n",
    "    \n",
    "    \n",
    "    imposto = det.find('.//nfe:imposto', namespaces=ns)\n",
    "    if imposto is not None:\n",
    "        icms = imposto.find('nfe:ICMS', namespaces=ns)\n",
    "        if icms is not None:\n",
    "            imposto.remove(icms)\n",
    "        \n",
    "        ICMS_element = ET.Element('{http://www.portalfiscal.inf.br/nfe}ICMS')\n",
    "        icms60_element = ET.Element('{http://www.portalfiscal.inf.br/nfe}ICMS60')\n",
    "        orig_element = ET.Element('{http://www.portalfiscal.inf.br/nfe}orig')\n",
    "        cst_element = ET.Element('{http://www.portalfiscal.inf.br/nfe}CST')\n",
    "        orig_element.text = '0'\n",
    "        cst_element.text = '60'\n",
    "        \n",
    "        icms60_element.append(orig_element)\n",
    "        icms60_element.append(cst_element)\n",
    "\n",
    "        ICMS_element.append(icms60_element)\n",
    "        imposto.append(ICMS_element)"
   ]
  },
  {
   "cell_type": "markdown",
   "id": "df7146dc-db74-4006-a42d-92140e0a80df",
   "metadata": {
    "tags": []
   },
   "source": [
    "## Condição 4.1.2 – Verificar o se o valor do GRUPO > 19 PIS"
   ]
  },
  {
   "cell_type": "code",
   "execution_count": 9,
   "id": "baf825d3-5a45-4ff2-8c59-10278f6bbfe4",
   "metadata": {},
   "outputs": [],
   "source": [
    "def remove_PIS_condicao412(det, vProd, ns):\n",
    "    \n",
    "    imposto = det.find('.//nfe:imposto', namespaces=ns)\n",
    "    if imposto is not None:\n",
    "        pis = imposto.find('nfe:PIS', namespaces=ns)\n",
    "        if pis is not None:\n",
    "            imposto.remove(pis)\n",
    "        \n",
    "        PIS_element = ET.Element('{http://www.portalfiscal.inf.br/nfe}PIS')\n",
    "        pISOutr_element = ET.Element('{http://www.portalfiscal.inf.br/nfe}PISOutr')\n",
    "        cst_element = ET.Element('{http://www.portalfiscal.inf.br/nfe}CST')\n",
    "        vBC_element = ET.Element('{http://www.portalfiscal.inf.br/nfe}vBC')\n",
    "        pPIS_element = ET.Element('{http://www.portalfiscal.inf.br/nfe}pPIS')\n",
    "        vPIS_element = ET.Element('{http://www.portalfiscal.inf.br/nfe}vPIS')\n",
    "\n",
    "        cst_element.text = '01'\n",
    "        vBC_element.text = str(vProd)\n",
    "        pPIS_element.text = '0.65'\n",
    "        vPIS_element.text = '{:.2f}'.format(vProd * 0.0065)\n",
    "\n",
    "        pISOutr_element.append(cst_element)\n",
    "        pISOutr_element.append(vBC_element)\n",
    "        pISOutr_element.append(pPIS_element)\n",
    "        pISOutr_element.append(vPIS_element)\n",
    "\n",
    "        PIS_element.append(pISOutr_element)\n",
    "        imposto.append(PIS_element)"
   ]
  },
  {
   "cell_type": "markdown",
   "id": "9101ff2c-3f8c-4c6b-b42c-dfb96e357830",
   "metadata": {
    "tags": []
   },
   "source": [
    "## Condição 4.1.3 – Verificar o se o valor do GRUPO > 19 COFINS"
   ]
  },
  {
   "cell_type": "code",
   "execution_count": 10,
   "id": "2a727413-2742-41e8-9ce4-ec90b6e4ec0a",
   "metadata": {},
   "outputs": [],
   "source": [
    "def remove_COFINS_condicao413(det, vProd, ns):\n",
    "            \n",
    "    imposto = det.find('.//nfe:imposto', namespaces=ns)\n",
    "    if imposto is not None:\n",
    "        cofins = imposto.find('nfe:COFINS', namespaces=ns)\n",
    "        if cofins is not None:\n",
    "            imposto.remove(cofins)\n",
    "            \n",
    "        COFINS_element = ET.Element('{http://www.portalfiscal.inf.br/nfe}COFINS')\n",
    "        COFINSOutr_element = ET.Element('{http://www.portalfiscal.inf.br/nfe}COFINSOutr')\n",
    "        cst_element = ET.Element('{http://www.portalfiscal.inf.br/nfe}CST')\n",
    "        vBC_element = ET.Element('{http://www.portalfiscal.inf.br/nfe}vBC')\n",
    "        pCOFINS_element = ET.Element('{http://www.portalfiscal.inf.br/nfe}pCOFINS')\n",
    "        vCOFINS_element = ET.Element('{http://www.portalfiscal.inf.br/nfe}vCOFINS')\n",
    "\n",
    "        cst_element.text = '01'\n",
    "        vBC_element.text = '{:.2f}'.format(vProd)\n",
    "        pCOFINS_element.text = '3.00'\n",
    "        vCOFINS_element.text = '{:.2f}'.format(vProd * 0.03)\n",
    "\n",
    "        COFINSOutr_element.append(cst_element)\n",
    "        COFINSOutr_element.append(vBC_element)\n",
    "        COFINSOutr_element.append(pCOFINS_element)\n",
    "        COFINSOutr_element.append(vCOFINS_element)\n",
    "\n",
    "        COFINS_element.append(COFINSOutr_element)\n",
    "        imposto.append(COFINS_element)"
   ]
  },
  {
   "cell_type": "markdown",
   "id": "7e186a42-9b31-4b98-9cfe-13d8b1c25188",
   "metadata": {
    "tags": []
   },
   "source": [
    "# Condição 4.2 – Verificar o se o valor do GRUPO > 9 ou GRUPO < 20"
   ]
  },
  {
   "cell_type": "markdown",
   "id": "6d55f1bf-4d67-4fe6-aa15-d523e8dfd7fe",
   "metadata": {
    "tags": []
   },
   "source": [
    "## Condição 4.2.1 – Verificar o se o valor do GRUPO > 9 ou GRUPO < 20 ICMS"
   ]
  },
  {
   "cell_type": "code",
   "execution_count": 11,
   "id": "a44cfcda-7a39-439a-b1ed-df85895902b1",
   "metadata": {},
   "outputs": [],
   "source": [
    "def remove_ICMS_condicao421(det, ns):\n",
    "    \n",
    "    \n",
    "    imposto = det.find('.//nfe:imposto', namespaces=ns)\n",
    "    \n",
    "    if imposto is not None:\n",
    "        icms = imposto.find('nfe:ICMS', namespaces=ns)\n",
    "        if icms is not None:\n",
    "            imposto.remove(icms)\n",
    "    \n",
    "        ICMS_element = ET.Element('{http://www.portalfiscal.inf.br/nfe}ICMS')\n",
    "        icms40_element = ET.Element('{http://www.portalfiscal.inf.br/nfe}ICMS40')\n",
    "        orig_element = ET.Element('{http://www.portalfiscal.inf.br/nfe}orig')\n",
    "        cst_element = ET.Element('{http://www.portalfiscal.inf.br/nfe}CST')\n",
    "        orig_element.text = '0'\n",
    "        cst_element.text = '41'\n",
    "        icms40_element.append(orig_element)\n",
    "        icms40_element.append(cst_element)\n",
    "\n",
    "        ICMS_element.append(icms40_element)\n",
    "\n",
    "        imposto.append(ICMS_element)\n"
   ]
  },
  {
   "cell_type": "markdown",
   "id": "3afeb53a-34df-44d4-a81e-6b1ce205c293",
   "metadata": {
    "tags": []
   },
   "source": [
    "## Condição 4.2.2 – Verificar o se o valor do GRUPO > 9 ou GRUPO < 20 PIS"
   ]
  },
  {
   "cell_type": "code",
   "execution_count": 12,
   "id": "20ad6559-a7e8-4964-92e4-2b99e3218bc0",
   "metadata": {},
   "outputs": [],
   "source": [
    "def remove_PIS_condicao422(det, ns):\n",
    "    \n",
    "    imposto = det.find('.//nfe:imposto', namespaces=ns)\n",
    "    if imposto is not None:\n",
    "        pis = imposto.find('nfe:PIS', namespaces=ns)\n",
    "        if pis is not None:\n",
    "            imposto.remove(pis)\n",
    "            \n",
    "        PIS_element = ET.Element('{http://www.portalfiscal.inf.br/nfe}PIS')\n",
    "        PISNT_element = ET.Element('{http://www.portalfiscal.inf.br/nfe}PISNT')\n",
    "        cst_element = ET.Element('{http://www.portalfiscal.inf.br/nfe}CST')\n",
    "        cst_element.text = '04'\n",
    "        PISNT_element.append(cst_element)\n",
    "\n",
    "        PIS_element.append(PISNT_element)\n",
    "        imposto.append(PIS_element)\n"
   ]
  },
  {
   "cell_type": "markdown",
   "id": "f4b5530a-0580-4cf5-bcda-8f7a580af9d5",
   "metadata": {
    "tags": []
   },
   "source": [
    "## Condição 4.2.3 – Verificar o se o valor do GRUPO > 9 e GRUPO < 20 COFINS"
   ]
  },
  {
   "cell_type": "code",
   "execution_count": 13,
   "id": "ea5a31b7-6229-455e-866d-16209686705b",
   "metadata": {},
   "outputs": [],
   "source": [
    "def remove_COFINS_condicao423(det, ns):\n",
    "    \n",
    "    imposto = det.find('.//nfe:imposto', namespaces=ns)\n",
    "    if imposto is not None:\n",
    "        cofins = imposto.find('nfe:COFINS', namespaces=ns)\n",
    "        if cofins is not None:\n",
    "            imposto.remove(cofins)\n",
    "        \n",
    "        COFINS_element = ET.Element('{http://www.portalfiscal.inf.br/nfe}COFINS')\n",
    "        COFINSNT_element = ET.Element('{http://www.portalfiscal.inf.br/nfe}COFINSNT')\n",
    "        cst_element = ET.Element('{http://www.portalfiscal.inf.br/nfe}CST')\n",
    "        cst_element.text = '04'\n",
    "        \n",
    "        COFINSNT_element.append(cst_element)\n",
    "\n",
    "        COFINS_element.append(COFINSNT_element)\n",
    "        imposto.append(COFINS_element)\n"
   ]
  },
  {
   "cell_type": "markdown",
   "id": "c1635394-8ff8-458f-85e8-7ce4ea209feb",
   "metadata": {
    "tags": []
   },
   "source": [
    "# Condição 4.3 – Verificar o se o valor do GRUPO < 8"
   ]
  },
  {
   "cell_type": "markdown",
   "id": "7d6323b8-0632-44b1-9ed9-6a538045014b",
   "metadata": {
    "tags": []
   },
   "source": [
    "## Condição 4.3.1 – Verificar o se o valor do GRUPO < 8 ICMS"
   ]
  },
  {
   "cell_type": "code",
   "execution_count": 14,
   "id": "a963774e-35a8-40eb-9ec8-293fef8445e2",
   "metadata": {},
   "outputs": [],
   "source": [
    "def remove_ICMS_condicao431(det, vProd, ns):\n",
    "    \n",
    "    \n",
    "    imposto = det.find('.//nfe:imposto', namespaces=ns)\n",
    "    if imposto is not None:\n",
    "        icms = imposto.find('nfe:ICMS', namespaces=ns)\n",
    "        if icms is not None:\n",
    "            imposto.remove(icms)\n",
    "            \n",
    "        ICMS_element = ET.Element('{http://www.portalfiscal.inf.br/nfe}ICMS')\n",
    "        ICMS00_element = ET.Element('{http://www.portalfiscal.inf.br/nfe}ICMS00')\n",
    "        orig_element = ET.Element('{http://www.portalfiscal.inf.br/nfe}orig')\n",
    "        CST_element = ET.Element('{http://www.portalfiscal.inf.br/nfe}CST')\n",
    "        modBC_element = ET.Element('{http://www.portalfiscal.inf.br/nfe}modBC')\n",
    "        vBC_element = ET.Element('{http://www.portalfiscal.inf.br/nfe}vBC')\n",
    "        pICMS_element = ET.Element('{http://www.portalfiscal.inf.br/nfe}pICMS')\n",
    "        vICMS_element = ET.Element('{http://www.portalfiscal.inf.br/nfe}vICMS')\n",
    "\n",
    "        orig_element.text = '0'\n",
    "        CST_element.text = '00'\n",
    "        modBC_element.text = '3'\n",
    "        vBC_element.text = '{:.2f}'.format(vProd)\n",
    "        pICMS_element.text = '18.0000'\n",
    "        vICMS_element.text = '{:.2f}'.format(vProd * 0.18)\n",
    "\n",
    "        ICMS00_element.append(orig_element)\n",
    "        ICMS00_element.append(CST_element)\n",
    "        ICMS00_element.append(modBC_element)\n",
    "        ICMS00_element.append(vBC_element)\n",
    "        ICMS00_element.append(pICMS_element)\n",
    "        ICMS00_element.append(vICMS_element)\n",
    "\n",
    "        ICMS_element.append(ICMS00_element)\n",
    "        imposto.append(ICMS_element)"
   ]
  },
  {
   "cell_type": "markdown",
   "id": "c4e92b8b-5bf2-4b4f-8b29-e4d9228fd4cc",
   "metadata": {
    "tags": []
   },
   "source": [
    "## Condição 4.3.2 – Verificar o se o valor do GRUPO < 8 PIS"
   ]
  },
  {
   "cell_type": "code",
   "execution_count": 15,
   "id": "51a7587e-de31-4f4f-9e42-724ebbd84c85",
   "metadata": {},
   "outputs": [],
   "source": [
    "def remove_PIS_condicao432(det, vProd, ns):\n",
    "    imposto = det.find('.//nfe:imposto', namespaces=ns)\n",
    "    if imposto is not None:\n",
    "        pis = imposto.find('nfe:PIS', namespaces=ns)\n",
    "        if pis is not None:\n",
    "            imposto.remove(pis)\n",
    "    \n",
    "        PIS_element = ET.Element('{http://www.portalfiscal.inf.br/nfe}PIS')\n",
    "        PISAliq_element = ET.Element('{http://www.portalfiscal.inf.br/nfe}PISAliq')\n",
    "        CST_element = ET.Element('{http://www.portalfiscal.inf.br/nfe}CST')\n",
    "        vBC_element = ET.Element('{http://www.portalfiscal.inf.br/nfe}vBC')\n",
    "        pPIS_element = ET.Element('{http://www.portalfiscal.inf.br/nfe}pPIS')\n",
    "        vPIS_element = ET.Element('{http://www.portalfiscal.inf.br/nfe}vPIS')\n",
    "\n",
    "        CST_element.text = '01'\n",
    "        vBC_element.text = '{:.2f}'.format(vProd)\n",
    "        pPIS_element.text = '0.65'\n",
    "        vPIS_element.text = '{:.2f}'.format(vProd * 0.0065)\n",
    "\n",
    "        PISAliq_element.append(CST_element)\n",
    "        PISAliq_element.append(vBC_element)\n",
    "        PISAliq_element.append(pPIS_element)\n",
    "        PISAliq_element.append(vPIS_element)\n",
    "\n",
    "        PIS_element.append(PISAliq_element)\n",
    "        imposto.append(PIS_element)"
   ]
  },
  {
   "cell_type": "markdown",
   "id": "0f598f4a-c690-4414-aeca-1260b7842daa",
   "metadata": {
    "tags": []
   },
   "source": [
    "## Condição 4.3.3 – Verificar o se o valor do GRUPO < 8 COFINS"
   ]
  },
  {
   "cell_type": "code",
   "execution_count": 16,
   "id": "cd94a293-039a-442c-9be7-66117b6fbfcd",
   "metadata": {},
   "outputs": [],
   "source": [
    "def remove_COFINS_condicao433(det, vProd,ns):\n",
    "    \n",
    "    imposto = det.find('.//nfe:imposto', namespaces=ns)\n",
    "    if imposto is not None:\n",
    "        cofins = imposto.find('nfe:COFINS', namespaces=ns)\n",
    "        if cofins is not None:\n",
    "            imposto.remove(cofins)\n",
    "        \n",
    "        COFINS_element = ET.Element('{http://www.portalfiscal.inf.br/nfe}COFINS')\n",
    "        COFINSAliq_element = ET.Element('{http://www.portalfiscal.inf.br/nfe}COFINSAliq')\n",
    "        CST_element = ET.Element('{http://www.portalfiscal.inf.br/nfe}CST')\n",
    "        vBC_element = ET.Element('{http://www.portalfiscal.inf.br/nfe}vBC')\n",
    "        pCOFINS_element = ET.Element('{http://www.portalfiscal.inf.br/nfe}pCOFINS')\n",
    "        vCOFINS_element = ET.Element('{http://www.portalfiscal.inf.br/nfe}vCOFINS')\n",
    "\n",
    "        CST_element.text = '01'\n",
    "        vBC_element.text = '{:.2f}'.format(vProd)\n",
    "        pCOFINS_element.text = '3.00'\n",
    "        vCOFINS_element.text = '{:.2f}'.format(vProd * 0.003)\n",
    "\n",
    "        COFINSAliq_element.append(CST_element)\n",
    "        COFINSAliq_element.append(vBC_element)\n",
    "        COFINSAliq_element.append(pCOFINS_element)\n",
    "        COFINSAliq_element.append(vCOFINS_element)\n",
    "\n",
    "        COFINS_element.append(COFINSAliq_element)\n",
    "        \n",
    "        imposto.append(COFINS_element)"
   ]
  },
  {
   "cell_type": "markdown",
   "id": "b0498d34-df96-408b-b73b-971a895105d3",
   "metadata": {
    "tags": []
   },
   "source": [
    "# Condição 4.4 – Verificar se o valor do GRUPO > 7 e GRUPO < 10"
   ]
  },
  {
   "cell_type": "markdown",
   "id": "0f837330-948d-48c5-a25b-1c08e73e0bab",
   "metadata": {
    "tags": []
   },
   "source": [
    "## Condição 4.4.1 – Verificar se o valor do GRUPO > 7 e GRUPO < 10 ICMS"
   ]
  },
  {
   "cell_type": "code",
   "execution_count": 17,
   "id": "9d7684d2-c04d-4729-aa43-c4511858796c",
   "metadata": {},
   "outputs": [],
   "source": [
    "def remove_ICMS_condicao441(det, vProd, ns):\n",
    "    \n",
    "    \n",
    "    imposto = det.find('.//nfe:imposto', namespaces=ns)\n",
    "    if imposto is not None:\n",
    "        icms = imposto.find('nfe:ICMS', namespaces=ns)\n",
    "        if icms is not None:\n",
    "            imposto.remove(icms)\n",
    "        \n",
    "        ICMS_element = ET.Element('{http://www.portalfiscal.inf.br/nfe}ICMS')\n",
    "        ICMS00_element = ET.Element('{http://www.portalfiscal.inf.br/nfe}ICMS00')\n",
    "        orig_element = ET.Element('{http://www.portalfiscal.inf.br/nfe}orig')\n",
    "        CST_element = ET.Element('{http://www.portalfiscal.inf.br/nfe}CST')\n",
    "        modBC_element = ET.Element('{http://www.portalfiscal.inf.br/nfe}modBC')\n",
    "        vBC_element = ET.Element('{http://www.portalfiscal.inf.br/nfe}vBC')\n",
    "        pICMS_element = ET.Element('{http://www.portalfiscal.inf.br/nfe}pICMS')\n",
    "        vICMS_element = ET.Element('{http://www.portalfiscal.inf.br/nfe}vICMS')\n",
    "\n",
    "        orig_element.text = '0'\n",
    "        CST_element.text = '00'\n",
    "        modBC_element.text = '3'\n",
    "        vBC_element.text = '{:.2f}'.format(vProd)\n",
    "        pICMS_element.text = '27.0000'\n",
    "        vICMS_element.text = '{:.2f}'.format(vProd * 0.27)\n",
    "\n",
    "        ICMS00_element.append(orig_element)\n",
    "        ICMS00_element.append(CST_element)\n",
    "        ICMS00_element.append(modBC_element)\n",
    "        ICMS00_element.append(vBC_element)\n",
    "        ICMS00_element.append(pICMS_element)\n",
    "        ICMS00_element.append(vICMS_element)\n",
    "\n",
    "        ICMS_element.append(ICMS00_element)\n",
    "        imposto.append(ICMS_element)"
   ]
  },
  {
   "cell_type": "markdown",
   "id": "8dcefa53-9aba-4846-b0ef-0fd205f7b01d",
   "metadata": {
    "tags": []
   },
   "source": [
    "## Condição 4.4.2 – Verificar se o valor do GRUPO = 7 e GRUPO = 10 PIS"
   ]
  },
  {
   "cell_type": "code",
   "execution_count": 18,
   "id": "53fd143b-2b33-4922-8709-a787881e28e2",
   "metadata": {},
   "outputs": [],
   "source": [
    "def remove_PIS_condicao442(det, vProd, ns):\n",
    "    imposto = det.find('.//nfe:imposto', namespaces=ns)\n",
    "    if imposto is not None:\n",
    "        pis = imposto.find('nfe:PIS', namespaces=ns)\n",
    "        if pis is not None:\n",
    "            imposto.remove(pis)\n",
    "        PIS = ET.Element('{http://www.portalfiscal.inf.br/nfe}PIS')\n",
    "        PISAliq_element = ET.Element('{http://www.portalfiscal.inf.br/nfe}PISAliq')\n",
    "        CST_element = ET.Element('{http://www.portalfiscal.inf.br/nfe}CST')\n",
    "        vBC_element = ET.Element('{http://www.portalfiscal.inf.br/nfe}vBC')\n",
    "        pPIS_element = ET.Element('{http://www.portalfiscal.inf.br/nfe}pPIS')\n",
    "        vPIS_element = ET.Element('{http://www.portalfiscal.inf.br/nfe}vPIS')\n",
    "\n",
    "        CST_element.text = '01'\n",
    "        vBC_element.text = '{:.2f}'.format(vProd)\n",
    "        pPIS_element.text = '0.65'\n",
    "        vPIS_element.text = '{:.2f}'.format(vProd * 0.0065)\n",
    "\n",
    "        PISAliq_element.append(CST_element)\n",
    "        PISAliq_element.append(vBC_element)\n",
    "        PISAliq_element.append(pPIS_element)\n",
    "        PISAliq_element.append(vPIS_element)\n",
    "\n",
    "        PIS.append(PISAliq_element)\n",
    "        imposto.append(PIS)"
   ]
  },
  {
   "cell_type": "markdown",
   "id": "e04c939c-4a37-4741-ac02-b4759a4ccebd",
   "metadata": {
    "tags": []
   },
   "source": [
    "## Condição 4.4.3 – Verificar se o valor do GRUPO > 7 e GRUPO < 10 CONFINS"
   ]
  },
  {
   "cell_type": "code",
   "execution_count": 19,
   "id": "cd4ebe09-a3b2-4a13-80c6-aad5da7ef450",
   "metadata": {},
   "outputs": [],
   "source": [
    "def remove_COFINS_condicao443(det, vProd, ns):\n",
    "    imposto = det.find('.//nfe:imposto', namespaces=ns)\n",
    "    if imposto is not None:\n",
    "        cofins = imposto.find('nfe:COFINS', namespaces=ns)\n",
    "        if cofins is not None:\n",
    "            imposto.remove(cofins)\n",
    "    \n",
    "        COFINS_element = ET.Element('{http://www.portalfiscal.inf.br/nfe}COFINS')\n",
    "        COFINSAliq_element = ET.Element('{http://www.portalfiscal.inf.br/nfe}COFINSAliq')\n",
    "        CST_element = ET.Element('{http://www.portalfiscal.inf.br/nfe}CST')\n",
    "        vBC_element = ET.Element('{http://www.portalfiscal.inf.br/nfe}vBC')\n",
    "        pCOFINS_element = ET.Element('{http://www.portalfiscal.inf.br/nfe}pCOFINS')\n",
    "        vCOFINS_element = ET.Element('{http://www.portalfiscal.inf.br/nfe}vCOFINS')\n",
    "\n",
    "        CST_element.text = '01'\n",
    "        vBC_element.text = '{:.2f}'.format(vProd)\n",
    "        pCOFINS_element.text = '3.00'\n",
    "        vCOFINS_element.text = '{:.2f}'.format(vProd * 0.003)\n",
    "\n",
    "        COFINSAliq_element.append(CST_element)\n",
    "        COFINSAliq_element.append(vBC_element)\n",
    "        COFINSAliq_element.append(pCOFINS_element)\n",
    "        COFINSAliq_element.append(vCOFINS_element)\n",
    "\n",
    "        COFINS_element.append(COFINSAliq_element)\n",
    "        imposto.append(COFINS_element)"
   ]
  },
  {
   "cell_type": "markdown",
   "id": "55477734-a3c7-4a76-8e4f-592e7e730ef4",
   "metadata": {
    "tags": []
   },
   "source": [
    "# ALTERA ARQUIVO EXCEL CASO NÃO ENCONTRE O cProd NA PLANILHA"
   ]
  },
  {
   "cell_type": "code",
   "execution_count": 20,
   "id": "b719b2f3-e512-40ba-a8a9-5775b1c52f12",
   "metadata": {},
   "outputs": [],
   "source": [
    "def cProd_NAO_encontrado_Excel(diretorio_tabela, det):\n",
    "    cProd = int(det.find(\".//{http://www.portalfiscal.inf.br/nfe}cProd\").text)\n",
    "    xProd = det.find(\".//{http://www.portalfiscal.inf.br/nfe}xProd\").text\n",
    "    # Ler o arquivo Excel existente\n",
    "    tabela_excel = pd.read_excel(diretorio_tabela)\n",
    "\n",
    "    # Verificar se o número já existe na tabela\n",
    "    numero_existente = (tabela_excel['COD'].values == cProd).any()\n",
    "\n",
    "    if numero_existente:\n",
    "        pass\n",
    "    else:\n",
    "        # Adicionar um novo item ao DataFrame\n",
    "        novo_item = pd.DataFrame({'COD': [cProd],\n",
    "                                  'COD-US': [''],\n",
    "                                  'DESCRICAO': [xProd],\n",
    "                                  'GRUPO': ['']})\n",
    "\n",
    "        tabela_excel = pd.concat([tabela_excel, novo_item], ignore_index=True)\n",
    "\n",
    "        # Salvar o DataFrame atualizado no arquivo Excel\n",
    "        tabela_excel.to_excel(diretorio_tabela, index=False)"
   ]
  },
  {
   "cell_type": "markdown",
   "id": "4032b8fd-c58a-4f5a-aaef-1e3b16f9fd48",
   "metadata": {
    "tags": []
   },
   "source": [
    "# MAIN RODA O PROGRAMA"
   ]
  },
  {
   "cell_type": "code",
   "execution_count": 21,
   "id": "e7137ba3-4eab-4fe1-836e-a2009ddaf90e",
   "metadata": {},
   "outputs": [],
   "source": [
    "def principal(arquivos, DIRETORIO_ENTRADA_XML, DIRETORIO_SAIDA_XML, DIRETORIO_SAIDA_cProd_NAO_ENCONTRADO):\n",
    "    arquivos_filtrados = condicao1(arquivos)\n",
    "    # Loop para percorrer todos os arquivos XML no diretório de origem\n",
    "    for nome_arquivo in tqdm(arquivos_filtrados):\n",
    "        if nome_arquivo.endswith('.xml'):  # Verificar se o arquivo é um arquivo XML\n",
    "            caminho_arquivo = os.path.join(DIRETORIO_ENTRADA_XML, nome_arquivo)\n",
    "            xml_file = open(caminho_arquivo, \"rb\")  # Abrir o arquivo como bytes\n",
    "            xml_data = xml_file.read()\n",
    "            xml_file.close()\n",
    "\n",
    "            ET.register_namespace('', 'http://www.portalfiscal.inf.br/nfe')\n",
    "            # Parse do XML\n",
    "            ns = {'nfe': 'http://www.portalfiscal.inf.br/nfe'}\n",
    "            root = ET.fromstring(xml_data)\n",
    "            det_elements = root.findall('.//nfe:det', namespaces=ns)\n",
    "            \n",
    "            # VERIFICANDO A SEGUNDA CONDIÇÃO\n",
    "            if condicao2(det_elements):\n",
    "                    for det in det_elements:\n",
    "                        valor = valores_grupo(encontra_grupo(int(det.find(\".//{http://www.portalfiscal.inf.br/nfe}cProd\").text)))\n",
    "                        if valor:\n",
    "                            # ALTERANDO O NCM E CFOP DA SEGUNDA CONDIÇÃO\n",
    "                            det.find(\".//{http://www.portalfiscal.inf.br/nfe}NCM\").text = str(int(valor['NCM']))\n",
    "                            # NOVA CONDIÇÃO CFOP\n",
    "                            if int(det.find(\".//{http://www.portalfiscal.inf.br/nfe}CFOP\").text) != 5101:\n",
    "                                det.find(\".//{http://www.portalfiscal.inf.br/nfe}CFOP\").text = str(int(valor['CFOP-INT']))\n",
    "\n",
    "                        # VERIFICANDO A QUARTA CONDIÇÃO 4.1\n",
    "                        if encontra_grupo(int(det.find(\".//{http://www.portalfiscal.inf.br/nfe}cProd\").text)) > 19:\n",
    "                            remove_ICMS_condicao411(det, ns)\n",
    "                            remove_PIS_condicao412(det, condicao3(det), ns)\n",
    "                            remove_COFINS_condicao413(det, condicao3(det), ns)\n",
    "                        # VERIFICANDO A QUARTA CONDIÇÃO 4.2    \n",
    "                        if encontra_grupo(int(det.find(\".//{http://www.portalfiscal.inf.br/nfe}cProd\").text)) > 9 and encontra_grupo(int(det.find(\".//{http://www.portalfiscal.inf.br/nfe}cProd\").text)) < 20:\n",
    "                            remove_ICMS_condicao421(det, ns)\n",
    "                            remove_PIS_condicao422(det, ns)\n",
    "                            remove_COFINS_condicao423(det, ns)\n",
    "                        # VERIFICANDO A QUARTA CONDIÇÃO 4.3  \n",
    "                        if encontra_grupo(int(det.find(\".//{http://www.portalfiscal.inf.br/nfe}cProd\").text)) < 8:\n",
    "                            remove_ICMS_condicao431(det, condicao3(det),ns)\n",
    "                            remove_PIS_condicao432(det, condicao3(det),ns)\n",
    "                            remove_COFINS_condicao433(det, condicao3(det),ns)\n",
    "                        # VERIFICANDO A QUARTA CONDIÇÃO 4.4\n",
    "                        if encontra_grupo(int(det.find(\".//{http://www.portalfiscal.inf.br/nfe}cProd\").text)) > 7 and encontra_grupo(int(det.find(\".//{http://www.portalfiscal.inf.br/nfe}cProd\").text)) < 10:\n",
    "                            remove_ICMS_condicao441(det, condicao3(det), ns)\n",
    "                            remove_PIS_condicao442(det, condicao3(det), ns)\n",
    "                            remove_COFINS_condicao443(det, condicao3(det), ns)\n",
    "\n",
    "                        # Monta o caminho completo do arquivo de destino\n",
    "                        tree = ET.ElementTree(root)\n",
    "                        caminho_arquivo_destino = os.path.join(DIRETORIO_SAIDA_XML, nome_arquivo)\n",
    "                        tree.write(caminho_arquivo_destino, encoding=\"utf-8\",xml_declaration=True, default_namespace=\"\")\n",
    "            else:\n",
    "                for det in det_elements:\n",
    "                    cProd_NAO_encontrado_Excel(DIRETORIO_TABELA_PRODUTOS,det)\n",
    "                caminho_arquivo_destino = os.path.join(DIRETORIO_SAIDA_cProd_NAO_ENCONTRADO, nome_arquivo) \n",
    "                tree.write(caminho_arquivo_destino, encoding=\"utf-8\", xml_declaration=True, default_namespace=\"\")"
   ]
  },
  {
   "cell_type": "markdown",
   "id": "97c97637-ddf8-4eca-ac1f-c1f58fb3a162",
   "metadata": {},
   "source": [
    "# PRIMEIRA VERIFICAÇÃO"
   ]
  },
  {
   "cell_type": "code",
   "execution_count": null,
   "id": "dd9ee581-5298-42d3-816c-96a3e7326878",
   "metadata": {},
   "outputs": [],
   "source": [
    "# COMENTAR A SEGUNDA VERIFICAÇÃO QUANDO FOR VERIFICAR A PRIMEIRA \n",
    "arquivos = os.listdir(DIRETORIO_ENTRADA_XML)\n",
    "principal(arquivos, DIRETORIO_ENTRADA_XML, DIRETORIO_SAIDA_XML, DIRETORIO_SAIDA_cProd_NAO_ENCONTRADOS)"
   ]
  },
  {
   "cell_type": "markdown",
   "id": "b5601543-31e8-4f4b-920e-f2bdda369d42",
   "metadata": {},
   "source": [
    "# EXECUTAR A SEGUNDA VERIFICAÇÃO APÓS CORRIGGIR OS GRUPOS QUE FALTAM NA TABELA EXCEL DA PRIMEIRA VERIFICAÇÃO"
   ]
  },
  {
   "cell_type": "code",
   "execution_count": null,
   "id": "568770d0-4158-445e-b919-568576852801",
   "metadata": {},
   "outputs": [],
   "source": [
    "# COMENTAR A PRIMEIRA VERIFICAÇÃO QUANDO FOR VERIFICAR A SEGUNDA \n",
    "#arquivos_segunda_verificacao = os.listdir(DIRETORIO_SAIDA_cProd_NAO_ENCONTRADOS)\n",
    "#principal(arquivos_segunda_verificacao, DIRETORIO_SAIDA_cProd_NAO_ENCONTRADOS, DIRETORIO_SAIDA_XML_SEGUNDA_VERIFICACAO, DIRETORIO_SAIDA_XML_SEGUNDA_VERIFICACAO_cProd)"
   ]
  }
 ],
 "metadata": {
  "kernelspec": {
   "display_name": "Python 3 (ipykernel)",
   "language": "python",
   "name": "python3"
  },
  "language_info": {
   "codemirror_mode": {
    "name": "ipython",
    "version": 3
   },
   "file_extension": ".py",
   "mimetype": "text/x-python",
   "name": "python",
   "nbconvert_exporter": "python",
   "pygments_lexer": "ipython3",
   "version": "3.10.8"
  }
 },
 "nbformat": 4,
 "nbformat_minor": 5
}
